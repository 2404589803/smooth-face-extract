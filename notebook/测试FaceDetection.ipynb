{
  "nbformat": 4,
  "nbformat_minor": 0,
  "metadata": {
    "colab": {
      "provenance": [],
      "authorship_tag": "ABX9TyOWK9fdBABZWwggVJ60gu/F",
      "include_colab_link": true
    },
    "kernelspec": {
      "name": "python3",
      "display_name": "Python 3"
    },
    "language_info": {
      "name": "python"
    }
  },
  "cells": [
    {
      "cell_type": "markdown",
      "metadata": {
        "id": "view-in-github",
        "colab_type": "text"
      },
      "source": [
        "<a href=\"https://colab.research.google.com/github/LC1332/smooth-face-extract/blob/main/notebook/%E6%B5%8B%E8%AF%95FaceDetection.ipynb\" target=\"_parent\"><img src=\"https://colab.research.google.com/assets/colab-badge.svg\" alt=\"Open In Colab\"/></a>"
      ]
    },
    {
      "cell_type": "markdown",
      "source": [
        "- [ ] 导入视频\n",
        "- [ ] 选一个时间\n",
        "- [ ] 看看detection能不能跑"
      ],
      "metadata": {
        "id": "bAI78B8O2bZ7"
      }
    },
    {
      "cell_type": "code",
      "execution_count": 1,
      "metadata": {
        "colab": {
          "base_uri": "https://localhost:8080/"
        },
        "id": "OJuM6jqQ2Xy6",
        "outputId": "41171bcd-cb8c-4d1a-cca2-754727057c8b"
      },
      "outputs": [
        {
          "output_type": "stream",
          "name": "stdout",
          "text": [
            "Mounted at /content/drive\n"
          ]
        }
      ],
      "source": [
        "from google.colab import drive\n",
        "drive.mount('/content/drive')"
      ]
    },
    {
      "cell_type": "code",
      "source": [
        "!ls /content/drive/MyDrive/SD/exp0226"
      ],
      "metadata": {
        "colab": {
          "base_uri": "https://localhost:8080/"
        },
        "id": "B5IlIizX2z--",
        "outputId": "6a529e1d-616d-4a85-9976-a491945903a6"
      },
      "execution_count": 2,
      "outputs": [
        {
          "output_type": "stream",
          "name": "stdout",
          "text": [
            "expression_example.mp4\n"
          ]
        }
      ]
    },
    {
      "cell_type": "code",
      "source": [
        "input_video = \"/content/drive/MyDrive/SD/exp0226/expression_example.mp4\"\n",
        "target_folder = \"/content/\"\n",
        "\n",
        "import shutil\n",
        "\n",
        "shutil.copy(input_video, target_folder)"
      ],
      "metadata": {
        "colab": {
          "base_uri": "https://localhost:8080/",
          "height": 35
        },
        "id": "dYsUgo553Ahw",
        "outputId": "652aed14-c6e1-4d18-cc97-43f1301e7fee"
      },
      "execution_count": 3,
      "outputs": [
        {
          "output_type": "execute_result",
          "data": {
            "text/plain": [
              "'/content/expression_example.mp4'"
            ],
            "application/vnd.google.colaboratory.intrinsic+json": {
              "type": "string"
            }
          },
          "metadata": {},
          "execution_count": 3
        }
      ]
    },
    {
      "cell_type": "code",
      "source": [
        "%cd /content\n",
        "!rm -rf /content/smooth-face-extract\n",
        "!git clone https://github.com/LC1332/smooth-face-extract\n"
      ],
      "metadata": {
        "colab": {
          "base_uri": "https://localhost:8080/"
        },
        "id": "tb5Xen4j3Lrf",
        "outputId": "240e41b2-d726-489f-9653-d9073ff19624"
      },
      "execution_count": 4,
      "outputs": [
        {
          "output_type": "stream",
          "name": "stdout",
          "text": [
            "/content\n",
            "Cloning into 'smooth-face-extract'...\n",
            "remote: Enumerating objects: 26, done.\u001b[K\n",
            "remote: Counting objects: 100% (26/26), done.\u001b[K\n",
            "remote: Compressing objects: 100% (23/23), done.\u001b[K\n",
            "remote: Total 26 (delta 9), reused 3 (delta 1), pack-reused 0\u001b[K\n",
            "Receiving objects: 100% (26/26), 14.50 KiB | 14.50 MiB/s, done.\n",
            "Resolving deltas: 100% (9/9), done.\n"
          ]
        }
      ]
    },
    {
      "cell_type": "code",
      "source": [
        "%cd /content/smooth-face-extract/Face_detection_src\n",
        "!ls\n",
        "!mkdir face_images"
      ],
      "metadata": {
        "colab": {
          "base_uri": "https://localhost:8080/"
        },
        "id": "M6zuNEfK4HPn",
        "outputId": "ed41cdb1-8c5a-49e4-faf4-14ec2ee28211"
      },
      "execution_count": 9,
      "outputs": [
        {
          "output_type": "stream",
          "name": "stdout",
          "text": [
            "/content/smooth-face-extract/Face_detection_src\n",
            "combine_img_to_video.py  FaceDetection.py  __init__\n"
          ]
        }
      ]
    },
    {
      "cell_type": "code",
      "source": [
        "!pip install -q mediapipe"
      ],
      "metadata": {
        "colab": {
          "base_uri": "https://localhost:8080/"
        },
        "id": "rvhrLE7K4Vtd",
        "outputId": "ab71e83d-d765-4993-fb94-941c92770475"
      },
      "execution_count": 12,
      "outputs": [
        {
          "output_type": "stream",
          "name": "stdout",
          "text": [
            "\u001b[2K     \u001b[90m━━━━━━━━━━━━━━━━━━━━━━━━━━━━━━━━━━━━━━━━\u001b[0m \u001b[32m34.8/34.8 MB\u001b[0m \u001b[31m30.2 MB/s\u001b[0m eta \u001b[36m0:00:00\u001b[0m\n",
            "\u001b[?25h"
          ]
        }
      ]
    },
    {
      "cell_type": "code",
      "source": [
        "!rm -rf face_images"
      ],
      "metadata": {
        "id": "WC6Btfpz4p6O"
      },
      "execution_count": 16,
      "outputs": []
    },
    {
      "cell_type": "code",
      "source": [
        "\n",
        "!python FaceDetection.py --input_video_name /content/expression_example.mp4 \\\n",
        "    --start_time 00:43:55 \\\n",
        "    --end_time 00:44:04 \\\n",
        "    --maxcenter_speed 30\n"
      ],
      "metadata": {
        "colab": {
          "base_uri": "https://localhost:8080/"
        },
        "id": "HRPlvLhG3WnH",
        "outputId": "cb16bfa1-e46e-4aa0-ca14-792d37bb7f01"
      },
      "execution_count": 17,
      "outputs": [
        {
          "output_type": "stream",
          "name": "stdout",
          "text": [
            "2024-02-26 05:28:26.271582: E external/local_xla/xla/stream_executor/cuda/cuda_dnn.cc:9261] Unable to register cuDNN factory: Attempting to register factory for plugin cuDNN when one has already been registered\n",
            "2024-02-26 05:28:26.271655: E external/local_xla/xla/stream_executor/cuda/cuda_fft.cc:607] Unable to register cuFFT factory: Attempting to register factory for plugin cuFFT when one has already been registered\n",
            "2024-02-26 05:28:26.273765: E external/local_xla/xla/stream_executor/cuda/cuda_blas.cc:1515] Unable to register cuBLAS factory: Attempting to register factory for plugin cuBLAS when one has already been registered\n",
            "2024-02-26 05:28:26.285857: I tensorflow/core/platform/cpu_feature_guard.cc:182] This TensorFlow binary is optimized to use available CPU instructions in performance-critical operations.\n",
            "To enable the following instructions: AVX2 FMA, in other operations, rebuild TensorFlow with the appropriate compiler flags.\n",
            "2024-02-26 05:28:28.143115: W tensorflow/compiler/tf2tensorrt/utils/py_utils.cc:38] TF-TRT Warning: Could not find TensorRT\n",
            "INFO: Created TensorFlow Lite XNNPACK delegate for CPU.\n"
          ]
        }
      ]
    },
    {
      "cell_type": "code",
      "source": [
        "!python combine_img_to_video.py"
      ],
      "metadata": {
        "colab": {
          "base_uri": "https://localhost:8080/"
        },
        "id": "FOYV6czN4D4h",
        "outputId": "f184763a-5474-411d-9319-fc2dde878c40"
      },
      "execution_count": 18,
      "outputs": [
        {
          "output_type": "stream",
          "name": "stdout",
          "text": [
            "Traceback (most recent call last):\n",
            "  File \"/content/smooth-face-extract/Face_detection_src/combine_img_to_video.py\", line 5, in <module>\n",
            "    face_images = os.listdir(\"face_images\")\n",
            "FileNotFoundError: [Errno 2] No such file or directory: 'face_images'\n"
          ]
        }
      ]
    },
    {
      "cell_type": "code",
      "source": [],
      "metadata": {
        "id": "ErpQtfdz4m88"
      },
      "execution_count": null,
      "outputs": []
    }
  ]
}